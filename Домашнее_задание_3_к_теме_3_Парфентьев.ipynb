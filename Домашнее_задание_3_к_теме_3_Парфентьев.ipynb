{
  "nbformat": 4,
  "nbformat_minor": 0,
  "metadata": {
    "colab": {
      "provenance": [],
      "authorship_tag": "ABX9TyPPvgBNK7lq7q8yuVMvKCTo",
      "include_colab_link": true
    },
    "kernelspec": {
      "name": "python3",
      "display_name": "Python 3"
    },
    "language_info": {
      "name": "python"
    }
  },
  "cells": [
    {
      "cell_type": "markdown",
      "metadata": {
        "id": "view-in-github",
        "colab_type": "text"
      },
      "source": [
        "<a href=\"https://colab.research.google.com/github/DmitryBigBoss88/Hatsker1/blob/main/%D0%94%D0%BE%D0%BC%D0%B0%D1%88%D0%BD%D0%B5%D0%B5_%D0%B7%D0%B0%D0%B4%D0%B0%D0%BD%D0%B8%D0%B5_3_%D0%BA_%D1%82%D0%B5%D0%BC%D0%B5_3_%D0%9F%D0%B0%D1%80%D1%84%D0%B5%D0%BD%D1%82%D1%8C%D0%B5%D0%B2.ipynb\" target=\"_parent\"><img src=\"https://colab.research.google.com/assets/colab-badge.svg\" alt=\"Open In Colab\"/></a>"
      ]
    },
    {
      "cell_type": "markdown",
      "source": [
        "Задача 1"
      ],
      "metadata": {
        "id": "4vwHvAWItD_4"
      }
    },
    {
      "cell_type": "code",
      "execution_count": null,
      "metadata": {
        "id": "mKHL7jtlqXvW"
      },
      "outputs": [],
      "source": [
        "word = input(\"Введите слово: \")\n",
        "\n",
        "if len(word) % 2 == 1:\n",
        "  print(word[len(word) // 2])\n",
        "else:\n",
        "  print(word[len(word) // 2 - 1: len(word) // 2 + 1])"
      ]
    }
  ]
}