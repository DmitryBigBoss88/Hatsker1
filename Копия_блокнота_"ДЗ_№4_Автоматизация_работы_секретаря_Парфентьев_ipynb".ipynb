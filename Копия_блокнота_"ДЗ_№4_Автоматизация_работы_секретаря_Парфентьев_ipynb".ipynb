{
  "nbformat": 4,
  "nbformat_minor": 0,
  "metadata": {
    "colab": {
      "provenance": [],
      "authorship_tag": "ABX9TyP7yQdwUuw87m0X1h5eODvG",
      "include_colab_link": true
    },
    "kernelspec": {
      "name": "python3",
      "display_name": "Python 3"
    },
    "language_info": {
      "name": "python"
    }
  },
  "cells": [
    {
      "cell_type": "markdown",
      "metadata": {
        "id": "view-in-github",
        "colab_type": "text"
      },
      "source": [
        "<a href=\"https://colab.research.google.com/github/DmitryBigBoss88/Hatsker1/blob/main/%D0%9A%D0%BE%D0%BF%D0%B8%D1%8F_%D0%B1%D0%BB%D0%BE%D0%BA%D0%BD%D0%BE%D1%82%D0%B0_%22%D0%94%D0%97_%E2%84%964_%D0%90%D0%B2%D1%82%D0%BE%D0%BC%D0%B0%D1%82%D0%B8%D0%B7%D0%B0%D1%86%D0%B8%D1%8F_%D1%80%D0%B0%D0%B1%D0%BE%D1%82%D1%8B_%D1%81%D0%B5%D0%BA%D1%80%D0%B5%D1%82%D0%B0%D1%80%D1%8F_%D0%9F%D0%B0%D1%80%D1%84%D0%B5%D0%BD%D1%82%D1%8C%D0%B5%D0%B2_ipynb%22.ipynb\" target=\"_parent\"><img src=\"https://colab.research.google.com/assets/colab-badge.svg\" alt=\"Open In Colab\"/></a>"
      ]
    },
    {
      "cell_type": "code",
      "execution_count": null,
      "metadata": {
        "colab": {
          "base_uri": "https://localhost:8080/"
        },
        "id": "YqCPjlCe9lqd",
        "outputId": "6130980c-51dd-4f5a-cf40-228086520a1f"
      },
      "outputs": [
        {
          "output_type": "stream",
          "name": "stdout",
          "text": [
            "Введите команду (p - узнать владельца документа, s - узнать полку документа, q - выход): p\n",
            "Введите номер документа: 10006\n",
            "Владелец документа: Аристарх Павлов\n",
            "Введите команду (p - узнать владельца документа, s - узнать полку документа, q - выход): s\n",
            "Введите номер документа: 10006\n",
            "Документ хранится на полке: 2\n",
            "Введите команду (p - узнать владельца документа, s - узнать полку документа, q - выход): p\n",
            "Введите номер документа: 1001\n",
            "Владелец документа: владелец не найден\n",
            "Введите команду (p - узнать владельца документа, s - узнать полку документа, q - выход): s\n",
            "Введите номер документа: 1001\n",
            "Документ не найден\n"
          ]
        }
      ],
      "source": [
        "documents = [\n",
        "{'type': 'passport', 'number': '2207 876234', 'name': 'Василий Гупкин'},\n",
        "{'type': 'invoice', 'number': '11-2', 'name': 'Геннадий Покемонов'},\n",
        "{'type': 'insurance', 'number': '10006', 'name': 'Аристарх Павлов'}\n",
        "]\n",
        "\n",
        "directories = {\n",
        "'1': ['2207 876234', '11-2'],\n",
        "'2': ['10006'],\n",
        "'3': []\n",
        "}\n",
        "\n",
        "def find_owner(documents, doc_number):\n",
        "    for doc in documents:\n",
        "        if doc['number'] == doc_number:\n",
        "            return f\"Владелец документа: {doc['name']}\"\n",
        "    return \"Владелец документа: владелец не найден\"\n",
        "\n",
        "def find_shelf(directories, doc_number):\n",
        "    for shelf, docs in directories.items():\n",
        "        if doc_number in docs:\n",
        "            return f\"Документ хранится на полке: {shelf}\"\n",
        "    return \"Документ не найден\"\n",
        "\n",
        "while True:\n",
        "    command = input(\"Введите команду (p - узнать владельца документа, s - узнать полку документа, q - выход): \")\n",
        "\n",
        "    if command == 'q':\n",
        "        break\n",
        "    elif command == 'p':\n",
        "        doc_number = input(\"Введите номер документа: \")\n",
        "        print(find_owner(documents, doc_number))\n",
        "    elif command == 's':\n",
        "        doc_number = input(\"Введите номер документа: \")\n",
        "        print(find_shelf(directories, doc_number))\n",
        "    else:\n",
        "        print(\"Некорректная команда. Попробуйте еще раз.\")"
      ]
    }
  ]
}