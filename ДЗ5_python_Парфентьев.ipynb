{
  "nbformat": 4,
  "nbformat_minor": 0,
  "metadata": {
    "colab": {
      "provenance": [],
      "authorship_tag": "ABX9TyMuNdAKOiTP3ajNBaOihVox",
      "include_colab_link": true
    },
    "kernelspec": {
      "name": "python3",
      "display_name": "Python 3"
    },
    "language_info": {
      "name": "python"
    }
  },
  "cells": [
    {
      "cell_type": "markdown",
      "metadata": {
        "id": "view-in-github",
        "colab_type": "text"
      },
      "source": [
        "<a href=\"https://colab.research.google.com/github/DmitryBigBoss88/Hatsker1/blob/main/%D0%94%D0%975_python_%D0%9F%D0%B0%D1%80%D1%84%D0%B5%D0%BD%D1%82%D1%8C%D0%B5%D0%B2.ipynb\" target=\"_parent\"><img src=\"https://colab.research.google.com/assets/colab-badge.svg\" alt=\"Open In Colab\"/></a>"
      ]
    },
    {
      "cell_type": "markdown",
      "source": [
        "Для решения задачи, требуется:\n",
        "\n",
        "Сначала построчно прочитать файл purchase_log.txt, чтобы собрать информацию о покупках в словарь.\n",
        "Затем построчно обработать файл visit_log.csv, сопоставляя каждый user_id с данными о покупках из первого шага.\n",
        "Если у пользователя есть покупка, записывать визит вместе с категорией в файл funnel.csv."
      ],
      "metadata": {
        "id": "oOyhsEeGDMNc"
      }
    },
    {
      "cell_type": "markdown",
      "source": [
        "Пояснение:\n",
        "Чтение файла покупок (purchase_log.txt):\n",
        "\n",
        "Сначала читаем файл с покупками построчно.\n",
        "Каждая строка в формате JSON разбирается с помощью json.loads(), извлекая user_id и category.\n",
        "Эта информация сохраняется в словарь purchases, где ключом является user_id, а значением — категория покупки.\n",
        "Чтение файла визитов (visit_log.csv):\n",
        "\n",
        "Обрабатываем файл построчно, используя csv.DictReader().\n",
        "Для каждого визита проверяем, есть ли соответствующий user_id в словаре покупок.\n",
        "Если есть покупка, записываем визит в файл funnel.csv вместе с категорией.\n",
        "Запись в файл:\n",
        "\n",
        "Используем csv.DictWriter() для записи данных в новый файл funnel.csv, включая заголовок.\n",
        "Таким образом, программа обрабатывает большие файлы построчно, что позволяет работать с данными, которые не помещаются в оперативную память."
      ],
      "metadata": {
        "id": "mwr1AsEIDWl7"
      }
    },
    {
      "cell_type": "code",
      "execution_count": 3,
      "metadata": {
        "colab": {
          "base_uri": "https://localhost:8080/",
          "height": 211
        },
        "id": "ofAQ0p4M6Xc0",
        "outputId": "982a5684-136a-4976-a391-304ffbd6e80c"
      },
      "outputs": [
        {
          "output_type": "error",
          "ename": "FileNotFoundError",
          "evalue": "[Errno 2] No such file or directory: 'purchase_log.txt'",
          "traceback": [
            "\u001b[0;31m---------------------------------------------------------------------------\u001b[0m",
            "\u001b[0;31mFileNotFoundError\u001b[0m                         Traceback (most recent call last)",
            "\u001b[0;32m<ipython-input-3-778c7dad510f>\u001b[0m in \u001b[0;36m<cell line: 8>\u001b[0;34m()\u001b[0m\n\u001b[1;32m      6\u001b[0m \u001b[0;34m\u001b[0m\u001b[0m\n\u001b[1;32m      7\u001b[0m \u001b[0;31m# Читаем файл purchase_log.txt и заполняем словарь\u001b[0m\u001b[0;34m\u001b[0m\u001b[0;34m\u001b[0m\u001b[0m\n\u001b[0;32m----> 8\u001b[0;31m \u001b[0;32mwith\u001b[0m \u001b[0mopen\u001b[0m\u001b[0;34m(\u001b[0m\u001b[0;34m'purchase_log.txt'\u001b[0m\u001b[0;34m,\u001b[0m \u001b[0;34m'r'\u001b[0m\u001b[0;34m,\u001b[0m \u001b[0mencoding\u001b[0m\u001b[0;34m=\u001b[0m\u001b[0;34m'utf-8'\u001b[0m\u001b[0;34m)\u001b[0m \u001b[0;32mas\u001b[0m \u001b[0mpurchase_log\u001b[0m\u001b[0;34m:\u001b[0m\u001b[0;34m\u001b[0m\u001b[0;34m\u001b[0m\u001b[0m\n\u001b[0m\u001b[1;32m      9\u001b[0m     \u001b[0;32mfor\u001b[0m \u001b[0mline\u001b[0m \u001b[0;32min\u001b[0m \u001b[0mpurchase_log\u001b[0m\u001b[0;34m:\u001b[0m\u001b[0;34m\u001b[0m\u001b[0;34m\u001b[0m\u001b[0m\n\u001b[1;32m     10\u001b[0m         \u001b[0;31m# Разбираем каждую строку как JSON-объект\u001b[0m\u001b[0;34m\u001b[0m\u001b[0;34m\u001b[0m\u001b[0m\n",
            "\u001b[0;31mFileNotFoundError\u001b[0m: [Errno 2] No such file or directory: 'purchase_log.txt'"
          ]
        }
      ],
      "source": [
        "import csv\n",
        "import json\n",
        "\n",
        "# Создаем словарь для хранения покупок\n",
        "purchases = {}\n",
        "\n",
        "# Читаем файл purchase_log.txt и заполняем словарь\n",
        "with open('purchase_log.txt', 'r', encoding='utf-8') as purchase_log:\n",
        "    for line in purchase_log:\n",
        "        # Разбираем каждую строку как JSON-объект\n",
        "        purchase_data = json.loads(line.strip())\n",
        "        user_id = purchase_data['user_id']\n",
        "        category = purchase_data['category']\n",
        "\n",
        "        # Добавляем покупку в словарь, используя user_id как ключ\n",
        "        purchases[user_id] = category\n",
        "\n",
        "# Открываем файл visit_log__1_.csv для чтения и файл funnel.csv для записи\n",
        "with open('visit_log__1_.csv', 'r', encoding='utf-8') as visit_log, open('funnel.csv', 'w', encoding='utf-8', newline='') as funnel:\n",
        "    visit_reader = csv.DictReader(visit_log)\n",
        "\n",
        "    # Определяем заголовки для нового файла\n",
        "    fieldnames = ['user_id', 'source', 'category']\n",
        "    funnel_writer = csv.DictWriter(funnel, fieldnames=fieldnames)\n",
        "\n",
        "    # Записываем заголовок в файл funnel.csv\n",
        "    funnel_writer.writeheader()\n",
        "\n",
        "    # Построчно обрабатываем визиты из файла visit_log__1_.csv\n",
        "    for row in visit_reader:\n",
        "        user_id = row['user_id']\n",
        "\n",
        "        # Проверяем, есть ли покупка для данного user_id\n",
        "        if user_id in purchases:\n",
        "            # Записываем строку в файл funnel.csv с добавленной категорией\n",
        "            funnel_writer.writerow({\n",
        "                'user_id': user_id,\n",
        "                'source': row['source'],\n",
        "                'category': purchases[user_id]\n",
        "            })\n",
        "\n",
        "print(\"Файл funnel.csv успешно создан.\")"
      ]
    }
  ]
}