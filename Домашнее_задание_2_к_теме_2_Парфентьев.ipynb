{
  "nbformat": 4,
  "nbformat_minor": 0,
  "metadata": {
    "colab": {
      "provenance": [],
      "authorship_tag": "ABX9TyMg3Flhal/cpaJzLIDZX05R",
      "include_colab_link": true
    },
    "kernelspec": {
      "name": "python3",
      "display_name": "Python 3"
    },
    "language_info": {
      "name": "python"
    }
  },
  "cells": [
    {
      "cell_type": "markdown",
      "metadata": {
        "id": "view-in-github",
        "colab_type": "text"
      },
      "source": [
        "<a href=\"https://colab.research.google.com/github/DmitryBigBoss88/Hatsker1/blob/main/%D0%94%D0%BE%D0%BC%D0%B0%D1%88%D0%BD%D0%B5%D0%B5_%D0%B7%D0%B0%D0%B4%D0%B0%D0%BD%D0%B8%D0%B5_2_%D0%BA_%D1%82%D0%B5%D0%BC%D0%B5_2_%D0%9F%D0%B0%D1%80%D1%84%D0%B5%D0%BD%D1%82%D1%8C%D0%B5%D0%B2.ipynb\" target=\"_parent\"><img src=\"https://colab.research.google.com/assets/colab-badge.svg\" alt=\"Open In Colab\"/></a>"
      ]
    },
    {
      "cell_type": "markdown",
      "source": [
        "Задача 1"
      ],
      "metadata": {
        "id": "raG1l8LMnVdJ"
      }
    },
    {
      "cell_type": "code",
      "execution_count": 6,
      "metadata": {
        "colab": {
          "base_uri": "https://localhost:8080/"
        },
        "id": "TK2-0B_Yi9Ec",
        "outputId": "978f2521-7042-49e8-9644-69800600b620"
      },
      "outputs": [
        {
          "output_type": "stream",
          "name": "stdout",
          "text": [
            "Високосный год\n"
          ]
        }
      ],
      "source": [
        "year = 2024\n",
        "if year % 4 ==0:\n",
        "  print(\"Високосный год\")\n",
        "else:\n",
        "    print(\"Обычный год\")"
      ]
    },
    {
      "cell_type": "markdown",
      "source": [
        "Задача 2"
      ],
      "metadata": {
        "id": "9nKSJHHancU5"
      }
    },
    {
      "cell_type": "code",
      "source": [
        "a = [int(i) for i in input(\"Введите шестизначное число: \")]\n",
        "if sum(a[:3]) == sum(a[3:]):\n",
        "    print(\"Счастливый билет!\")\n",
        "else:\n",
        "  print(\"Несчастливый билет\")"
      ],
      "metadata": {
        "colab": {
          "base_uri": "https://localhost:8080/"
        },
        "id": "QM1XYuOslQfa",
        "outputId": "ad26075a-6cac-455c-96f3-7866394cc3ce"
      },
      "execution_count": 7,
      "outputs": [
        {
          "output_type": "stream",
          "name": "stdout",
          "text": [
            "Введите шестизначное число: 123321\n",
            "Счастливый билет!\n"
          ]
        }
      ]
    }
  ]
}